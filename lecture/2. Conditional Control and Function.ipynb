{
 "cells": [
  {
   "cell_type": "markdown",
   "metadata": {},
   "source": [
    "# <center> Loop, Conditional Control and Function"
   ]
  },
  {
   "cell_type": "markdown",
   "metadata": {},
   "source": [
    "<img src = \"https://github.com/saeed-saffari/alzahra-workshop-spr2021/blob/main/lecture/PIC/Loops-in-Python.png?raw=true\" >"
   ]
  },
  {
   "cell_type": "markdown",
   "metadata": {},
   "source": [
    "# <center> Loop and Conditional Control \n",
    "- ## for"
   ]
  },
  {
   "cell_type": "code",
   "execution_count": 2,
   "metadata": {},
   "outputs": [
    {
     "name": "stdout",
     "output_type": "stream",
     "text": [
      "[1, 5, 8, 12, 48]\n"
     ]
    }
   ],
   "source": [
    "print([1,5,8,12,48])"
   ]
  },
  {
   "cell_type": "code",
   "execution_count": 9,
   "metadata": {},
   "outputs": [
    {
     "name": "stdout",
     "output_type": "stream",
     "text": [
      "1\n",
      "5\n",
      "8\n",
      "12\n",
      "48\n"
     ]
    }
   ],
   "source": [
    "for num in [1,5,8,12,48]:\n",
    "    print(num)"
   ]
  },
  {
   "cell_type": "code",
   "execution_count": null,
   "metadata": {},
   "outputs": [],
   "source": [
    "for .. in ..... :\n",
    "    .....\n",
    "    .....\n",
    "    .....\n",
    "    .....\n",
    "    ....."
   ]
  },
  {
   "cell_type": "code",
   "execution_count": 10,
   "metadata": {},
   "outputs": [
    {
     "name": "stdout",
     "output_type": "stream",
     "text": [
      "['Saeed', 'Yalda', 'Sajjad', 'Hadise', 'Javad']\n"
     ]
    }
   ],
   "source": [
    "users = ['Saeed', 'Yalda', \"Sajjad\" , 'Hadise' , 'Javad']\n",
    "print(users)"
   ]
  },
  {
   "cell_type": "code",
   "execution_count": 11,
   "metadata": {},
   "outputs": [
    {
     "data": {
      "text/plain": [
       "'Yalda'"
      ]
     },
     "execution_count": 11,
     "metadata": {},
     "output_type": "execute_result"
    }
   ],
   "source": [
    "users[1]"
   ]
  },
  {
   "cell_type": "code",
   "execution_count": 14,
   "metadata": {},
   "outputs": [
    {
     "name": "stdout",
     "output_type": "stream",
     "text": [
      "Saeed\n",
      "Yalda\n",
      "Sajjad\n",
      "Hadise\n",
      "Javad\n"
     ]
    }
   ],
   "source": [
    "for user in users:\n",
    "    print(user)"
   ]
  },
  {
   "cell_type": "code",
   "execution_count": 18,
   "metadata": {},
   "outputs": [
    {
     "name": "stdout",
     "output_type": "stream",
     "text": [
      "Hi\n",
      "Saeed\n",
      "Hi\n",
      "Yalda\n",
      "Hi\n",
      "Sajjad\n",
      "Hi\n",
      "Hadise\n",
      "Hi\n",
      "Javad\n",
      "Bye\n"
     ]
    }
   ],
   "source": [
    "for user in users:\n",
    "    print('Hi')\n",
    "    print(user)\n",
    "print('Bye')"
   ]
  },
  {
   "cell_type": "code",
   "execution_count": 19,
   "metadata": {},
   "outputs": [
    {
     "name": "stdout",
     "output_type": "stream",
     "text": [
      "Hi\n",
      "welcome, Saeed!\n",
      "Hi\n",
      "welcome, Yalda!\n",
      "Hi\n",
      "welcome, Sajjad!\n",
      "Hi\n",
      "welcome, Hadise!\n",
      "Hi\n",
      "welcome, Javad!\n",
      "Welcome, We are glad to see you all\n"
     ]
    }
   ],
   "source": [
    "for user in users:\n",
    "    print('Hi')\n",
    "    print('welcome, ' + user + '!')\n",
    "print('Welcome, We are glad to see you all')"
   ]
  },
  {
   "cell_type": "code",
   "execution_count": 22,
   "metadata": {},
   "outputs": [
    {
     "name": "stdout",
     "output_type": "stream",
     "text": [
      "1\n",
      "25\n",
      "64\n",
      "144\n",
      "2304\n"
     ]
    }
   ],
   "source": [
    "for i in [1,5,8,12,48]:\n",
    "    print(i*i)"
   ]
  },
  {
   "cell_type": "code",
   "execution_count": 25,
   "metadata": {},
   "outputs": [
    {
     "name": "stdout",
     "output_type": "stream",
     "text": [
      "P\n",
      "Y\n",
      "T\n",
      "H\n",
      "O\n",
      "N\n",
      " \n",
      "C\n",
      "O\n",
      "U\n",
      "R\n",
      "S\n",
      "E\n"
     ]
    }
   ],
   "source": [
    "for letter in \"Python Course\":\n",
    "    print(letter.upper())"
   ]
  },
  {
   "cell_type": "code",
   "execution_count": 28,
   "metadata": {},
   "outputs": [
    {
     "data": {
      "text/plain": [
       "[3, 4, 5, 6, 7, 8, 9, 10]"
      ]
     },
     "execution_count": 28,
     "metadata": {},
     "output_type": "execute_result"
    }
   ],
   "source": [
    "list(range(3, 11))"
   ]
  },
  {
   "cell_type": "code",
   "execution_count": 30,
   "metadata": {},
   "outputs": [
    {
     "name": "stdout",
     "output_type": "stream",
     "text": [
      "9\n",
      "12\n",
      "15\n",
      "18\n",
      "21\n",
      "24\n",
      "27\n"
     ]
    }
   ],
   "source": [
    "for i in range(3, 10):\n",
    "    print(i*3)"
   ]
  },
  {
   "cell_type": "code",
   "execution_count": 35,
   "metadata": {},
   "outputs": [
    {
     "name": "stdout",
     "output_type": "stream",
     "text": [
      "[1, 4, 9, 16, 25, 36, 49, 64, 81, 100, 121, 144, 169, 196, 225, 256, 289, 324, 361, 400, 441, 484, 529, 576]\n",
      "[1, 2, 3, 4, 5, 6, 7, 8, 9, 10, 11, 12, 13, 14, 15, 16, 17, 18, 19, 20, 21, 22, 23, 24]\n"
     ]
    },
    {
     "data": {
      "text/plain": [
       "24"
      ]
     },
     "execution_count": 35,
     "metadata": {},
     "output_type": "execute_result"
    }
   ],
   "source": [
    "squares = []\n",
    "\n",
    "for i in range(1,25):\n",
    "    square = i ** 2\n",
    "    squares.append(square)\n",
    "\n",
    "print(squares)\n",
    "print(list(range(1,25)))\n",
    "\n",
    "len(squares)"
   ]
  },
  {
   "cell_type": "code",
   "execution_count": 39,
   "metadata": {},
   "outputs": [
    {
     "name": "stdout",
     "output_type": "stream",
     "text": [
      "55\n"
     ]
    }
   ],
   "source": [
    "list_sum = 0\n",
    "\n",
    "for i in range(1, 11):\n",
    "    #print(i)\n",
    "    list_sum = i + list_sum\n",
    "    \n",
    "print(list_sum)"
   ]
  },
  {
   "cell_type": "code",
   "execution_count": null,
   "metadata": {},
   "outputs": [],
   "source": []
  },
  {
   "cell_type": "markdown",
   "metadata": {},
   "source": [
    "- ## while (pass, continue, break)"
   ]
  },
  {
   "cell_type": "markdown",
   "metadata": {},
   "source": [
    "<img src = \"https://github.com/saeed-saffari/alzahra-workshop-spr2021/blob/main/lecture/PIC/Looping.jpg?raw=true\">"
   ]
  },
  {
   "cell_type": "code",
   "execution_count": 40,
   "metadata": {},
   "outputs": [
    {
     "name": "stdout",
     "output_type": "stream",
     "text": [
      "0\n",
      "1\n",
      "2\n",
      "3\n",
      "4\n",
      "5\n",
      "6\n",
      "7\n",
      "8\n",
      "9\n"
     ]
    }
   ],
   "source": [
    "n = 0\n",
    "while n < 10 :\n",
    "    print(n)\n",
    "    n = n + 1"
   ]
  },
  {
   "cell_type": "code",
   "execution_count": 41,
   "metadata": {},
   "outputs": [
    {
     "name": "stdout",
     "output_type": "stream",
     "text": [
      "1\n",
      "0.2\n",
      "0.04\n",
      "0.008\n",
      "0.0016\n",
      "0.00032\n"
     ]
    }
   ],
   "source": [
    "x = 1\n",
    "while x > 10**(-4):\n",
    "    print(x)\n",
    "    x = x / 5"
   ]
  },
  {
   "cell_type": "code",
   "execution_count": 42,
   "metadata": {},
   "outputs": [
    {
     "name": "stdout",
     "output_type": "stream",
     "text": [
      "1\n",
      "0.2\n",
      "0.04\n",
      "0.008\n",
      "0.0016\n",
      "0.00032\n"
     ]
    }
   ],
   "source": [
    "x = 1\n",
    "while x > 1e-4:\n",
    "    print(x)\n",
    "    x = x / 5"
   ]
  },
  {
   "cell_type": "code",
   "execution_count": 45,
   "metadata": {},
   "outputs": [],
   "source": [
    "x = [ 1 , 2, 3]\n",
    "for i in x :\n",
    "    # comment\n",
    "    pass"
   ]
  },
  {
   "cell_type": "code",
   "execution_count": null,
   "metadata": {},
   "outputs": [],
   "source": []
  },
  {
   "cell_type": "markdown",
   "metadata": {},
   "source": [
    "- ## if, elif , else"
   ]
  },
  {
   "cell_type": "markdown",
   "metadata": {},
   "source": [
    "<img src = \"https://github.com/saeed-saffari/alzahra-workshop-spr2021/blob/main/lecture/PIC/if-else.jpg?raw=true\" width = \"650\">"
   ]
  },
  {
   "cell_type": "code",
   "execution_count": 48,
   "metadata": {},
   "outputs": [],
   "source": [
    "if 3 < 2 :\n",
    "    print('That is True!')"
   ]
  },
  {
   "cell_type": "code",
   "execution_count": 50,
   "metadata": {},
   "outputs": [
    {
     "name": "stdout",
     "output_type": "stream",
     "text": [
      "Enter your age: 12\n",
      "You can nit vote yet\n"
     ]
    }
   ],
   "source": [
    "age = int(input('Enter your age: '))\n",
    "\n",
    "if age >= 18:\n",
    "    print(\"You are old enough to vote!\")\n",
    "else:\n",
    "    print('You can nit vote yet')"
   ]
  },
  {
   "cell_type": "code",
   "execution_count": 59,
   "metadata": {},
   "outputs": [
    {
     "name": "stdout",
     "output_type": "stream",
     "text": [
      "Enter your age: 12\n",
      "You can not vote yet.\n",
      "You can will vote after 6 years.\n"
     ]
    }
   ],
   "source": [
    "age = int(input('Enter your age: '))\n",
    "\n",
    "if age >= 18:\n",
    "    print(\"You are old enough to vote!\")\n",
    "else:\n",
    "    print('You can not vote yet.')\n",
    "    print(\"You can will vote after {} years.\".format(18 - age))"
   ]
  },
  {
   "cell_type": "code",
   "execution_count": 62,
   "metadata": {},
   "outputs": [
    {
     "name": "stdout",
     "output_type": "stream",
     "text": [
      "Enter your age: 3\n",
      "Your cost is $0.\n"
     ]
    }
   ],
   "source": [
    "age = int(input('Enter your age: '))\n",
    "\n",
    "if age <= 4:\n",
    "    price = 0\n",
    "elif age <= 16:\n",
    "    price = 5\n",
    "else:\n",
    "    price = 10\n",
    "    \n",
    "print(\"Your cost is ${}.\".format(price))"
   ]
  },
  {
   "cell_type": "code",
   "execution_count": 68,
   "metadata": {},
   "outputs": [
    {
     "name": "stdout",
     "output_type": "stream",
     "text": [
      "fail\n"
     ]
    }
   ],
   "source": [
    "grade = 'C'\n",
    "\n",
    "if grade == 'A':\n",
    "    print('Well done!')\n",
    "elif grade == 'B':\n",
    "    print('Try more!')\n",
    "#elif grade == 'C':\n",
    "else:\n",
    "    print('fail')"
   ]
  },
  {
   "cell_type": "code",
   "execution_count": 74,
   "metadata": {},
   "outputs": [
    {
     "name": "stdout",
     "output_type": "stream",
     "text": [
      "ODD\n",
      "4 is EVEN number!\n",
      "ODD\n",
      "8 is EVEN number!\n",
      "ODD\n",
      "ODD\n",
      "112 is EVEN number!\n",
      "36 is EVEN number!\n"
     ]
    }
   ],
   "source": [
    "my_list1 = [1,4,7,8,19,23,112,36]\n",
    "\n",
    "for num in my_list1:\n",
    "    if num % 2 == 0:\n",
    "        print(num, 'is EVEN number!')\n",
    "    else:\n",
    "        print('ODD')"
   ]
  },
  {
   "cell_type": "code",
   "execution_count": null,
   "metadata": {},
   "outputs": [],
   "source": []
  },
  {
   "cell_type": "markdown",
   "metadata": {},
   "source": [
    "<img src = \"https://github.com/saeed-saffari/alzahra-workshop-spr2021/blob/main/lecture/PIC/whlie%20expr.png?raw=true\" width = \"400\">"
   ]
  },
  {
   "cell_type": "code",
   "execution_count": 76,
   "metadata": {},
   "outputs": [
    {
     "name": "stdout",
     "output_type": "stream",
     "text": [
      "n\n",
      "o\n",
      "h\n",
      "i\n",
      "n\n",
      "g\n"
     ]
    }
   ],
   "source": [
    "mystring = 'nothing'\n",
    "\n",
    "for letter in mystring:\n",
    "    if letter == 't':\n",
    "        continue\n",
    "    print(letter)"
   ]
  },
  {
   "cell_type": "code",
   "execution_count": 84,
   "metadata": {},
   "outputs": [
    {
     "name": "stdout",
     "output_type": "stream",
     "text": [
      "n\n",
      "o\n",
      "t\n"
     ]
    }
   ],
   "source": [
    "mystring = 'nothing'\n",
    "\n",
    "for letter in mystring:\n",
    "    if letter == 'h':\n",
    "        break\n",
    "    print(letter)"
   ]
  },
  {
   "cell_type": "code",
   "execution_count": 85,
   "metadata": {},
   "outputs": [
    {
     "name": "stdout",
     "output_type": "stream",
     "text": [
      "n\n",
      "o\n",
      "t\n",
      "h\n"
     ]
    }
   ],
   "source": [
    "mystring = 'nothing'\n",
    "\n",
    "for letter in mystring:\n",
    "    print(letter)\n",
    "    if letter == 'h':\n",
    "        break    "
   ]
  },
  {
   "cell_type": "code",
   "execution_count": 82,
   "metadata": {},
   "outputs": [
    {
     "name": "stdout",
     "output_type": "stream",
     "text": [
      "0\n",
      "1\n",
      "2\n"
     ]
    }
   ],
   "source": [
    "x = 0\n",
    "while x < 5:\n",
    "    if x == 3:\n",
    "        break\n",
    "        \n",
    "    print(x)\n",
    "    x = x + 1 \n",
    "    \n",
    "    "
   ]
  },
  {
   "cell_type": "code",
   "execution_count": 88,
   "metadata": {},
   "outputs": [
    {
     "name": "stdout",
     "output_type": "stream",
     "text": [
      "0 0\n",
      "0 1\n",
      "1 0\n",
      "1 1\n",
      "2 0\n",
      "2 1\n",
      "3 0\n",
      "3 1\n"
     ]
    }
   ],
   "source": [
    "for i in range(4):\n",
    "    for j in range(2):\n",
    "        print(i,j)"
   ]
  },
  {
   "cell_type": "code",
   "execution_count": null,
   "metadata": {},
   "outputs": [],
   "source": []
  },
  {
   "cell_type": "markdown",
   "metadata": {},
   "source": [
    "## <center> Function"
   ]
  },
  {
   "cell_type": "markdown",
   "metadata": {},
   "source": [
    "<img src = \"https://github.com/saeed-saffari/alzahra-workshop-spr2021/blob/main/lecture/PIC/python-functions.gif?raw=true\" width = \"850\">"
   ]
  },
  {
   "cell_type": "markdown",
   "metadata": {},
   "source": [
    "- ##  frame"
   ]
  },
  {
   "cell_type": "code",
   "execution_count": null,
   "metadata": {},
   "outputs": [],
   "source": [
    "def test_1():\n",
    "    ....\n",
    "    ...\n",
    "    ...\n",
    "    ...\n",
    "    return ..."
   ]
  },
  {
   "cell_type": "code",
   "execution_count": null,
   "metadata": {},
   "outputs": [],
   "source": [
    "def test_2():\n",
    "    ...\n",
    "    ...\n",
    "    ...\n",
    "    print(...)"
   ]
  },
  {
   "cell_type": "code",
   "execution_count": null,
   "metadata": {},
   "outputs": [],
   "source": [
    "test_1()\n",
    "test_2()"
   ]
  },
  {
   "cell_type": "code",
   "execution_count": null,
   "metadata": {},
   "outputs": [],
   "source": [
    "def test_3(x, y, z):\n",
    "    ....\n",
    "    ...\n",
    "    ...\n",
    "    ...\n",
    "    print(....) # return ...."
   ]
  },
  {
   "cell_type": "code",
   "execution_count": null,
   "metadata": {},
   "outputs": [],
   "source": [
    "test_3(2, 5 , -98)"
   ]
  },
  {
   "cell_type": "code",
   "execution_count": null,
   "metadata": {},
   "outputs": [],
   "source": [
    "def test_4():\n",
    "    ...\n",
    "    ...\n",
    "    ..."
   ]
  },
  {
   "cell_type": "markdown",
   "metadata": {},
   "source": [
    "- ##  Example"
   ]
  },
  {
   "cell_type": "code",
   "execution_count": 93,
   "metadata": {},
   "outputs": [],
   "source": [
    "def echo(i):\n",
    "    print(i)"
   ]
  },
  {
   "cell_type": "code",
   "execution_count": 97,
   "metadata": {},
   "outputs": [
    {
     "name": "stdout",
     "output_type": "stream",
     "text": [
      "Salaaam!\n"
     ]
    }
   ],
   "source": [
    "echo('Salaaam!')"
   ]
  },
  {
   "cell_type": "code",
   "execution_count": 98,
   "metadata": {},
   "outputs": [
    {
     "name": "stdout",
     "output_type": "stream",
     "text": [
      "Salaaam!\n"
     ]
    }
   ],
   "source": [
    "x = echo('Salaaam!')"
   ]
  },
  {
   "cell_type": "code",
   "execution_count": 99,
   "metadata": {},
   "outputs": [
    {
     "name": "stdout",
     "output_type": "stream",
     "text": [
      "None\n"
     ]
    }
   ],
   "source": [
    "print(x)"
   ]
  },
  {
   "cell_type": "code",
   "execution_count": 100,
   "metadata": {},
   "outputs": [],
   "source": [
    "def mean3(x , y , z):\n",
    "    return (x+y+z)/3"
   ]
  },
  {
   "cell_type": "code",
   "execution_count": 102,
   "metadata": {},
   "outputs": [
    {
     "data": {
      "text/plain": [
       "-7.333333333333333"
      ]
     },
     "execution_count": 102,
     "metadata": {},
     "output_type": "execute_result"
    }
   ],
   "source": [
    "mean3(2 , 45 , -69)"
   ]
  },
  {
   "cell_type": "code",
   "execution_count": 103,
   "metadata": {},
   "outputs": [],
   "source": [
    "def mean3B(x, y , z):\n",
    "    sum_ = x + y + z\n",
    "    ave = sum_ / 3\n",
    "    return ave"
   ]
  },
  {
   "cell_type": "code",
   "execution_count": 104,
   "metadata": {},
   "outputs": [
    {
     "data": {
      "text/plain": [
       "-7.333333333333333"
      ]
     },
     "execution_count": 104,
     "metadata": {},
     "output_type": "execute_result"
    }
   ],
   "source": [
    "mean3B(2,45,-69)"
   ]
  },
  {
   "cell_type": "code",
   "execution_count": 105,
   "metadata": {},
   "outputs": [],
   "source": [
    "def mean3C():\n",
    "    x = float(input('first: '))\n",
    "    y = float(input('second: '))\n",
    "    z = float(input('third: '))\n",
    "    sum_ = x + y + z\n",
    "    ave = sum_ / 3\n",
    "    return ave"
   ]
  },
  {
   "cell_type": "code",
   "execution_count": 107,
   "metadata": {},
   "outputs": [
    {
     "name": "stdout",
     "output_type": "stream",
     "text": [
      "first: 56\n",
      "second: 47\n",
      "third: -25\n"
     ]
    },
    {
     "data": {
      "text/plain": [
       "26.0"
      ]
     },
     "execution_count": 107,
     "metadata": {},
     "output_type": "execute_result"
    }
   ],
   "source": [
    "mean3C()"
   ]
  },
  {
   "cell_type": "code",
   "execution_count": 108,
   "metadata": {},
   "outputs": [],
   "source": [
    "def hello():\n",
    "    name = input('Enter your name: ')\n",
    "    \n",
    "    if name:\n",
    "        print('Hello ' + str(name) + ' !')\n",
    "    else:\n",
    "        print('Hello World!')\n",
    "    return\n",
    "\n"
   ]
  },
  {
   "cell_type": "code",
   "execution_count": 110,
   "metadata": {},
   "outputs": [
    {
     "name": "stdout",
     "output_type": "stream",
     "text": [
      "Enter your name: Saeed Saffari\n",
      "Hello Saeed Saffari !\n"
     ]
    }
   ],
   "source": [
    "hello()"
   ]
  },
  {
   "cell_type": "code",
   "execution_count": 113,
   "metadata": {},
   "outputs": [
    {
     "name": "stdout",
     "output_type": "stream",
     "text": [
      "Enter your age: 16\n",
      "Your cost is $5.\n"
     ]
    }
   ],
   "source": [
    "def price():\n",
    "    age = int(input('Enter your age: '))\n",
    "\n",
    "    if age <= 4:\n",
    "        price = 0\n",
    "    elif age <= 16:\n",
    "        price = 5\n",
    "    else:\n",
    "        price = 10\n",
    "        \n",
    "    print(\"Your cost is ${}.\".format(price))\n",
    "    \n",
    "price()"
   ]
  },
  {
   "cell_type": "code",
   "execution_count": 114,
   "metadata": {},
   "outputs": [
    {
     "name": "stdout",
     "output_type": "stream",
     "text": [
      "Enter your age: 3\n",
      "Your cost is $0.\n"
     ]
    }
   ],
   "source": [
    "price()"
   ]
  },
  {
   "cell_type": "code",
   "execution_count": 115,
   "metadata": {},
   "outputs": [],
   "source": [
    "# Guess number"
   ]
  },
  {
   "cell_type": "code",
   "execution_count": 2,
   "metadata": {},
   "outputs": [
    {
     "data": {
      "text/plain": [
       "43"
      ]
     },
     "execution_count": 2,
     "metadata": {},
     "output_type": "execute_result"
    }
   ],
   "source": [
    "import random\n",
    "\n",
    "cump_num = random.randint(1 , 100)\n",
    "cump_num"
   ]
  },
  {
   "cell_type": "code",
   "execution_count": 3,
   "metadata": {},
   "outputs": [
    {
     "name": "stdout",
     "output_type": "stream",
     "text": [
      "Enter your guess number: 25\n",
      "Enter a bigger one!\n",
      "Enter your guess number: 35\n",
      "Enter a bigger one!\n",
      "Enter your guess number: 57\n",
      "Enter a small one!\n",
      "Enter your guess number: 44\n",
      "Enter a small one!\n",
      "Enter your guess number: 43\n",
      "Well DONE!\n"
     ]
    }
   ],
   "source": [
    "def guess_number():\n",
    "    user_num = int(input('Enter your guess number: '))\n",
    "    \n",
    "    while user_num != cump_num:\n",
    "        if user_num > cump_num:\n",
    "            print('Enter a small one!')\n",
    "        elif user_num < cump_num:\n",
    "            print('Enter a bigger one!')\n",
    "        \n",
    "        user_num = int(input('Enter your guess number: '))\n",
    "    \n",
    "    print('Well DONE!')\n",
    "    \n",
    "guess_number()\n",
    "\n",
    "# guess counter"
   ]
  },
  {
   "cell_type": "code",
   "execution_count": null,
   "metadata": {},
   "outputs": [],
   "source": []
  },
  {
   "cell_type": "code",
   "execution_count": 4,
   "metadata": {},
   "outputs": [],
   "source": [
    "# contact"
   ]
  },
  {
   "cell_type": "code",
   "execution_count": 6,
   "metadata": {},
   "outputs": [
    {
     "name": "stdout",
     "output_type": "stream",
     "text": [
      "Enter your name: Saeed\n",
      "Enter phone number: 09199193216\n",
      "Enter email id: m.saeed.saffari@ut.ac.ir\n"
     ]
    },
    {
     "data": {
      "text/plain": [
       "{'Saeed': ('09199193216', 'm.saeed.saffari@ut.ac.ir')}"
      ]
     },
     "execution_count": 6,
     "metadata": {},
     "output_type": "execute_result"
    }
   ],
   "source": [
    "# 1\n",
    "def contact():\n",
    "    contact = {}\n",
    "    \n",
    "    name = input('Enter your name: ')\n",
    "    phone = input('Enter phone number: ')\n",
    "    email = input('Enter email id: ')\n",
    "    \n",
    "    contact[name] = phone , email\n",
    "    return contact\n",
    "\n",
    "contact()"
   ]
  },
  {
   "cell_type": "code",
   "execution_count": 7,
   "metadata": {},
   "outputs": [
    {
     "name": "stdout",
     "output_type": "stream",
     "text": [
      "Enter your name: Saeed\n",
      "Enter phone number: 1235\n",
      "Invalid phone number!\n",
      "Enter phone number: asdfasdfasd\n",
      "Invalid phone number!\n",
      "Enter phone number: 1234567891p\n",
      "Invalid phone number!\n",
      "Enter phone number: 09199193216\n",
      "Enter email id: ajshakjd\n",
      "Invalid email id\n",
      "Enter email id: m.saeed1024@yahoo.com\n"
     ]
    },
    {
     "data": {
      "text/plain": [
       "{'Saeed': ('09199193216', 'm.saeed1024@yahoo.com')}"
      ]
     },
     "execution_count": 7,
     "metadata": {},
     "output_type": "execute_result"
    }
   ],
   "source": [
    "# 2\n",
    "def contact():\n",
    "    contact = {}\n",
    "    \n",
    "    name = input('Enter your name: ')\n",
    "    phone = input('Enter phone number: ')\n",
    "    \n",
    "    # 09199193216\n",
    "    while len(phone) != 11 or not phone.isdigit():   # new\n",
    "        print('Invalid phone number!')               # new\n",
    "        phone = input('Enter phone number: ')        # new\n",
    "    \n",
    "    email = input('Enter email id: ')\n",
    "    \n",
    "    while email.find('@') == -1:          # new\n",
    "        print('Invalid email id')         # new\n",
    "        email = input('Enter email id: ') # new\n",
    "    \n",
    "    \n",
    "    contact[name] = phone , email\n",
    "    return contact\n",
    "\n",
    "contact()"
   ]
  },
  {
   "cell_type": "code",
   "execution_count": 10,
   "metadata": {},
   "outputs": [
    {
     "name": "stdout",
     "output_type": "stream",
     "text": [
      "Enter your name: Saeed Saffari\n",
      "Enter phone number: 09199193216\n",
      "Enter email id: m.saeed1024@yahoo.com\n",
      "Enter your name: Javad\n",
      "Enter phone number: 09351234567\n",
      "Enter email id: javad@gmail.com\n",
      "Enter your name: end\n"
     ]
    },
    {
     "data": {
      "text/plain": [
       "{'Saeed Saffari': ('09199193216', 'm.saeed1024@yahoo.com'),\n",
       " 'Javad': ('09351234567', 'javad@gmail.com')}"
      ]
     },
     "execution_count": 10,
     "metadata": {},
     "output_type": "execute_result"
    }
   ],
   "source": [
    "# 3\n",
    "def contact():\n",
    "    contact = {}\n",
    "    \n",
    "    while True:\n",
    "        \n",
    "        name = input('Enter your name: ')\n",
    "        \n",
    "        if name == 'end':\n",
    "            break\n",
    "        \n",
    "        phone = input('Enter phone number: ')\n",
    "        \n",
    "        # 09199193216\n",
    "        while len(phone) != 11 or not phone.isdigit():   # new\n",
    "            print('Invalid phone number!')               # new\n",
    "            phone = input('Enter phone number: ')        # new\n",
    "        \n",
    "        email = input('Enter email id: ')\n",
    "        \n",
    "        while email.find('@') == -1:          # new\n",
    "            print('Invalid email id')         # new\n",
    "            email = input('Enter email id: ') # new\n",
    "        \n",
    "        \n",
    "        contact[name] = phone , email\n",
    "    return contact\n",
    "\n",
    "contact()"
   ]
  },
  {
   "cell_type": "code",
   "execution_count": 11,
   "metadata": {},
   "outputs": [
    {
     "name": "stdout",
     "output_type": "stream",
     "text": [
      "Enter your name: Saeed Saffari\n",
      "Enter phone number: 09199193216\n",
      "Enter email id: m.saeed1024@yahoo.com\n",
      "Enter your name: javad\n",
      "Enter phone number: 09351234567\n",
      "Enter email id: javad@gmail.com\n",
      "Enter your name: end\n"
     ]
    },
    {
     "data": {
      "text/plain": [
       "{'Saeed Saffari': ('09199193216', 'm.saeed1024@yahoo.com'),\n",
       " 'javad': ('09351234567', 'javad@gmail.com')}"
      ]
     },
     "execution_count": 11,
     "metadata": {},
     "output_type": "execute_result"
    }
   ],
   "source": [
    "list_cont = contact()\n",
    "list_cont"
   ]
  },
  {
   "cell_type": "code",
   "execution_count": 12,
   "metadata": {},
   "outputs": [
    {
     "data": {
      "text/plain": [
       "('09351234567', 'javad@gmail.com')"
      ]
     },
     "execution_count": 12,
     "metadata": {},
     "output_type": "execute_result"
    }
   ],
   "source": [
    "list_cont['javad']"
   ]
  },
  {
   "cell_type": "code",
   "execution_count": 13,
   "metadata": {},
   "outputs": [
    {
     "data": {
      "text/plain": [
       "('09199193216', 'm.saeed1024@yahoo.com')"
      ]
     },
     "execution_count": 13,
     "metadata": {},
     "output_type": "execute_result"
    }
   ],
   "source": [
    "list_cont['Saeed Saffari']"
   ]
  },
  {
   "cell_type": "code",
   "execution_count": 14,
   "metadata": {},
   "outputs": [
    {
     "name": "stdout",
     "output_type": "stream",
     "text": [
      "Saeed Saffari\n",
      "javad\n"
     ]
    }
   ],
   "source": [
    "for i in list_cont:\n",
    "    print(i)"
   ]
  },
  {
   "cell_type": "code",
   "execution_count": 20,
   "metadata": {},
   "outputs": [
    {
     "name": "stdout",
     "output_type": "stream",
     "text": [
      "Saeed Saffari\n",
      "('09199193216', 'm.saeed1024@yahoo.com')\n",
      "javad\n",
      "('09351234567', 'javad@gmail.com')\n"
     ]
    }
   ],
   "source": [
    "for i in list_cont:\n",
    "    print(i)\n",
    "    print(list_cont.get(i))"
   ]
  },
  {
   "cell_type": "code",
   "execution_count": 18,
   "metadata": {},
   "outputs": [
    {
     "data": {
      "text/plain": [
       "dict_values([('09199193216', 'm.saeed1024@yahoo.com'), ('09351234567', 'javad@gmail.com')])"
      ]
     },
     "execution_count": 18,
     "metadata": {},
     "output_type": "execute_result"
    }
   ],
   "source": [
    "list_cont.values()"
   ]
  },
  {
   "cell_type": "code",
   "execution_count": 21,
   "metadata": {},
   "outputs": [
    {
     "name": "stdout",
     "output_type": "stream",
     "text": [
      "09199193216\n",
      "m.saeed1024@yahoo.com\n",
      "09351234567\n",
      "javad@gmail.com\n"
     ]
    }
   ],
   "source": [
    "for i in list_cont:\n",
    "    for j in list_cont.get(i):\n",
    "        print(j)"
   ]
  },
  {
   "cell_type": "code",
   "execution_count": null,
   "metadata": {},
   "outputs": [],
   "source": []
  },
  {
   "cell_type": "markdown",
   "metadata": {},
   "source": [
    "- ## lambda"
   ]
  },
  {
   "cell_type": "code",
   "execution_count": 27,
   "metadata": {},
   "outputs": [],
   "source": [
    "m = lambda x , y , z : (x+y+z)/3"
   ]
  },
  {
   "cell_type": "code",
   "execution_count": 29,
   "metadata": {},
   "outputs": [
    {
     "data": {
      "text/plain": [
       "29.183333333333334"
      ]
     },
     "execution_count": 29,
     "metadata": {},
     "output_type": "execute_result"
    }
   ],
   "source": [
    "m(9, 12.8, 65.75)"
   ]
  },
  {
   "cell_type": "code",
   "execution_count": null,
   "metadata": {},
   "outputs": [],
   "source": []
  },
  {
   "cell_type": "markdown",
   "metadata": {},
   "source": [
    " ### -  Diffrence between return and print"
   ]
  },
  {
   "cell_type": "code",
   "execution_count": 38,
   "metadata": {},
   "outputs": [
    {
     "name": "stdout",
     "output_type": "stream",
     "text": [
      "3\n",
      "-------\n",
      "3\n",
      "5\n",
      "None\n",
      "-*-*-*-*\n",
      "3\n",
      "5\n",
      "10\n",
      "-+-+-+-+-\n"
     ]
    }
   ],
   "source": [
    "def fun1(x1):\n",
    "    x1 = x1 + 2\n",
    "    print(x1)\n",
    "    \n",
    "    \n",
    "def fun2(x1):\n",
    "    return x1 + 2\n",
    "\n",
    "x1 = 3\n",
    "\n",
    "print(x1)\n",
    "print('-------')\n",
    "\n",
    "print(x1)\n",
    "print(fun1(x1))\n",
    "#print(fun1(x1)*2)\n",
    "print('-*-*-*-*')\n",
    "\n",
    "print(x1)\n",
    "print(fun2(x1))\n",
    "print(fun2(x1)*2)\n",
    "\n",
    "print('-+-+-+-+-')"
   ]
  },
  {
   "cell_type": "code",
   "execution_count": null,
   "metadata": {},
   "outputs": [],
   "source": []
  },
  {
   "cell_type": "code",
   "execution_count": null,
   "metadata": {},
   "outputs": [],
   "source": []
  }
 ],
 "metadata": {
  "kernelspec": {
   "display_name": "Python 3",
   "language": "python",
   "name": "python3"
  },
  "language_info": {
   "codemirror_mode": {
    "name": "ipython",
    "version": 3
   },
   "file_extension": ".py",
   "mimetype": "text/x-python",
   "name": "python",
   "nbconvert_exporter": "python",
   "pygments_lexer": "ipython3",
   "version": "3.8.5"
  }
 },
 "nbformat": 4,
 "nbformat_minor": 4
}
